{
  "nbformat": 4,
  "nbformat_minor": 0,
  "metadata": {
    "colab": {
      "name": "Zapata-Nicolas-TpDS.ipynb",
      "provenance": [],
      "collapsed_sections": [],
      "authorship_tag": "ABX9TyMgnH7Toi9IgIWlceNrCFrd",
      "include_colab_link": true
    },
    "kernelspec": {
      "name": "python3",
      "display_name": "Python 3"
    },
    "language_info": {
      "name": "python"
    }
  },
  "cells": [
    {
      "cell_type": "markdown",
      "metadata": {
        "id": "view-in-github",
        "colab_type": "text"
      },
      "source": [
        "<a href=\"https://colab.research.google.com/github/Zapatannicolas/Python-Data-Science-TP/blob/main/Zapata_Nicolas_TpDS.ipynb\" target=\"_parent\"><img src=\"https://colab.research.google.com/assets/colab-badge.svg\" alt=\"Open In Colab\"/></a>"
      ]
    },
    {
      "cell_type": "markdown",
      "source": [
        "# CONTEXTO Y OBJETIVO:\n",
        "\n",
        "Una concesionaria de automoviles necesita que analicemos: la potencia de los automoviles, como se distribuye el consumo de combustible y como son los precios dependiendo el fabricante y realizar una prediccion sobre los precios.\n",
        "\n",
        "Para ello contamos con un dataset con informacion acerca de los autos y sus ventas.\n",
        "\n",
        "\n",
        "> LINK DEL DATASET: https://www.kaggle.com/gagandeep16/car-salesBloc \n",
        "\n",
        "\n"
      ],
      "metadata": {
        "id": "tAOsVvIaMHkW"
      }
    },
    {
      "cell_type": "markdown",
      "source": [
        "# CARGA DE DATOS"
      ],
      "metadata": {
        "id": "t8fZXIO86Jqu"
      }
    },
    {
      "cell_type": "markdown",
      "source": [
        "Importamos las librerias"
      ],
      "metadata": {
        "id": "_IbalVYpBs8y"
      }
    },
    {
      "cell_type": "code",
      "execution_count": null,
      "metadata": {
        "id": "RDlbdq6OjhaH"
      },
      "outputs": [],
      "source": [
        "import sys\n",
        "import pandas as pd\n",
        "import numpy as np\n",
        "import scipy as sp\n",
        "import IPython \n",
        "import seaborn as sns\n"
      ]
    },
    {
      "cell_type": "markdown",
      "source": [
        "Importamos el dataset"
      ],
      "metadata": {
        "id": "d-Y8cYKeB5Qm"
      }
    },
    {
      "cell_type": "code",
      "source": [
        "from google.colab import drive \n",
        "drive.mount(\"/content/drive\")"
      ],
      "metadata": {
        "colab": {
          "base_uri": "https://localhost:8080/"
        },
        "id": "AaGCWtL6BsFv",
        "outputId": "9aceb2d5-189e-481f-a2c9-ef25036736ab"
      },
      "execution_count": null,
      "outputs": [
        {
          "output_type": "stream",
          "name": "stdout",
          "text": [
            "Drive already mounted at /content/drive; to attempt to forcibly remount, call drive.mount(\"/content/drive\", force_remount=True).\n"
          ]
        }
      ]
    },
    {
      "cell_type": "markdown",
      "source": [
        "Lo leemos"
      ],
      "metadata": {
        "id": "ksTGs4U4KPx-"
      }
    },
    {
      "cell_type": "code",
      "source": [
        "df = pd.read_csv(\"/content/drive/MyDrive/Colab Notebooks/TP-DS-NICOLAS-ZAPATA/Car_sales.csv\")\n",
        "df.head()"
      ],
      "metadata": {
        "colab": {
          "base_uri": "https://localhost:8080/",
          "height": 270
        },
        "id": "d6RO_owzKx4o",
        "outputId": "6c287df1-8ad4-435a-9761-0814e8de75db"
      },
      "execution_count": null,
      "outputs": [
        {
          "output_type": "execute_result",
          "data": {
            "text/plain": [
              "  Manufacturer    Model  Sales_in_thousands  __year_resale_value Vehicle_type  \\\n",
              "0        Acura  Integra              16.919               16.360    Passenger   \n",
              "1        Acura       TL              39.384               19.875    Passenger   \n",
              "2        Acura       CL              14.114               18.225    Passenger   \n",
              "3        Acura       RL               8.588               29.725    Passenger   \n",
              "4         Audi       A4              20.397               22.255    Passenger   \n",
              "\n",
              "   Price_in_thousands  Engine_size  Horsepower  Wheelbase  Width  Length  \\\n",
              "0               21.50          1.8       140.0      101.2   67.3   172.4   \n",
              "1               28.40          3.2       225.0      108.1   70.3   192.9   \n",
              "2                 NaN          3.2       225.0      106.9   70.6   192.0   \n",
              "3               42.00          3.5       210.0      114.6   71.4   196.6   \n",
              "4               23.99          1.8       150.0      102.6   68.2   178.0   \n",
              "\n",
              "   Curb_weight  Fuel_capacity  Fuel_efficiency Latest_Launch  \\\n",
              "0        2.639           13.2             28.0      2/2/2012   \n",
              "1        3.517           17.2             25.0      6/3/2011   \n",
              "2        3.470           17.2             26.0      1/4/2012   \n",
              "3        3.850           18.0             22.0     3/10/2011   \n",
              "4        2.998           16.4             27.0     10/8/2011   \n",
              "\n",
              "   Power_perf_factor  \n",
              "0          58.280150  \n",
              "1          91.370778  \n",
              "2                NaN  \n",
              "3          91.389779  \n",
              "4          62.777639  "
            ],
            "text/html": [
              "\n",
              "  <div id=\"df-df1e3102-3edc-4f61-b3d8-70da0cdfcfaa\">\n",
              "    <div class=\"colab-df-container\">\n",
              "      <div>\n",
              "<style scoped>\n",
              "    .dataframe tbody tr th:only-of-type {\n",
              "        vertical-align: middle;\n",
              "    }\n",
              "\n",
              "    .dataframe tbody tr th {\n",
              "        vertical-align: top;\n",
              "    }\n",
              "\n",
              "    .dataframe thead th {\n",
              "        text-align: right;\n",
              "    }\n",
              "</style>\n",
              "<table border=\"1\" class=\"dataframe\">\n",
              "  <thead>\n",
              "    <tr style=\"text-align: right;\">\n",
              "      <th></th>\n",
              "      <th>Manufacturer</th>\n",
              "      <th>Model</th>\n",
              "      <th>Sales_in_thousands</th>\n",
              "      <th>__year_resale_value</th>\n",
              "      <th>Vehicle_type</th>\n",
              "      <th>Price_in_thousands</th>\n",
              "      <th>Engine_size</th>\n",
              "      <th>Horsepower</th>\n",
              "      <th>Wheelbase</th>\n",
              "      <th>Width</th>\n",
              "      <th>Length</th>\n",
              "      <th>Curb_weight</th>\n",
              "      <th>Fuel_capacity</th>\n",
              "      <th>Fuel_efficiency</th>\n",
              "      <th>Latest_Launch</th>\n",
              "      <th>Power_perf_factor</th>\n",
              "    </tr>\n",
              "  </thead>\n",
              "  <tbody>\n",
              "    <tr>\n",
              "      <th>0</th>\n",
              "      <td>Acura</td>\n",
              "      <td>Integra</td>\n",
              "      <td>16.919</td>\n",
              "      <td>16.360</td>\n",
              "      <td>Passenger</td>\n",
              "      <td>21.50</td>\n",
              "      <td>1.8</td>\n",
              "      <td>140.0</td>\n",
              "      <td>101.2</td>\n",
              "      <td>67.3</td>\n",
              "      <td>172.4</td>\n",
              "      <td>2.639</td>\n",
              "      <td>13.2</td>\n",
              "      <td>28.0</td>\n",
              "      <td>2/2/2012</td>\n",
              "      <td>58.280150</td>\n",
              "    </tr>\n",
              "    <tr>\n",
              "      <th>1</th>\n",
              "      <td>Acura</td>\n",
              "      <td>TL</td>\n",
              "      <td>39.384</td>\n",
              "      <td>19.875</td>\n",
              "      <td>Passenger</td>\n",
              "      <td>28.40</td>\n",
              "      <td>3.2</td>\n",
              "      <td>225.0</td>\n",
              "      <td>108.1</td>\n",
              "      <td>70.3</td>\n",
              "      <td>192.9</td>\n",
              "      <td>3.517</td>\n",
              "      <td>17.2</td>\n",
              "      <td>25.0</td>\n",
              "      <td>6/3/2011</td>\n",
              "      <td>91.370778</td>\n",
              "    </tr>\n",
              "    <tr>\n",
              "      <th>2</th>\n",
              "      <td>Acura</td>\n",
              "      <td>CL</td>\n",
              "      <td>14.114</td>\n",
              "      <td>18.225</td>\n",
              "      <td>Passenger</td>\n",
              "      <td>NaN</td>\n",
              "      <td>3.2</td>\n",
              "      <td>225.0</td>\n",
              "      <td>106.9</td>\n",
              "      <td>70.6</td>\n",
              "      <td>192.0</td>\n",
              "      <td>3.470</td>\n",
              "      <td>17.2</td>\n",
              "      <td>26.0</td>\n",
              "      <td>1/4/2012</td>\n",
              "      <td>NaN</td>\n",
              "    </tr>\n",
              "    <tr>\n",
              "      <th>3</th>\n",
              "      <td>Acura</td>\n",
              "      <td>RL</td>\n",
              "      <td>8.588</td>\n",
              "      <td>29.725</td>\n",
              "      <td>Passenger</td>\n",
              "      <td>42.00</td>\n",
              "      <td>3.5</td>\n",
              "      <td>210.0</td>\n",
              "      <td>114.6</td>\n",
              "      <td>71.4</td>\n",
              "      <td>196.6</td>\n",
              "      <td>3.850</td>\n",
              "      <td>18.0</td>\n",
              "      <td>22.0</td>\n",
              "      <td>3/10/2011</td>\n",
              "      <td>91.389779</td>\n",
              "    </tr>\n",
              "    <tr>\n",
              "      <th>4</th>\n",
              "      <td>Audi</td>\n",
              "      <td>A4</td>\n",
              "      <td>20.397</td>\n",
              "      <td>22.255</td>\n",
              "      <td>Passenger</td>\n",
              "      <td>23.99</td>\n",
              "      <td>1.8</td>\n",
              "      <td>150.0</td>\n",
              "      <td>102.6</td>\n",
              "      <td>68.2</td>\n",
              "      <td>178.0</td>\n",
              "      <td>2.998</td>\n",
              "      <td>16.4</td>\n",
              "      <td>27.0</td>\n",
              "      <td>10/8/2011</td>\n",
              "      <td>62.777639</td>\n",
              "    </tr>\n",
              "  </tbody>\n",
              "</table>\n",
              "</div>\n",
              "      <button class=\"colab-df-convert\" onclick=\"convertToInteractive('df-df1e3102-3edc-4f61-b3d8-70da0cdfcfaa')\"\n",
              "              title=\"Convert this dataframe to an interactive table.\"\n",
              "              style=\"display:none;\">\n",
              "        \n",
              "  <svg xmlns=\"http://www.w3.org/2000/svg\" height=\"24px\"viewBox=\"0 0 24 24\"\n",
              "       width=\"24px\">\n",
              "    <path d=\"M0 0h24v24H0V0z\" fill=\"none\"/>\n",
              "    <path d=\"M18.56 5.44l.94 2.06.94-2.06 2.06-.94-2.06-.94-.94-2.06-.94 2.06-2.06.94zm-11 1L8.5 8.5l.94-2.06 2.06-.94-2.06-.94L8.5 2.5l-.94 2.06-2.06.94zm10 10l.94 2.06.94-2.06 2.06-.94-2.06-.94-.94-2.06-.94 2.06-2.06.94z\"/><path d=\"M17.41 7.96l-1.37-1.37c-.4-.4-.92-.59-1.43-.59-.52 0-1.04.2-1.43.59L10.3 9.45l-7.72 7.72c-.78.78-.78 2.05 0 2.83L4 21.41c.39.39.9.59 1.41.59.51 0 1.02-.2 1.41-.59l7.78-7.78 2.81-2.81c.8-.78.8-2.07 0-2.86zM5.41 20L4 18.59l7.72-7.72 1.47 1.35L5.41 20z\"/>\n",
              "  </svg>\n",
              "      </button>\n",
              "      \n",
              "  <style>\n",
              "    .colab-df-container {\n",
              "      display:flex;\n",
              "      flex-wrap:wrap;\n",
              "      gap: 12px;\n",
              "    }\n",
              "\n",
              "    .colab-df-convert {\n",
              "      background-color: #E8F0FE;\n",
              "      border: none;\n",
              "      border-radius: 50%;\n",
              "      cursor: pointer;\n",
              "      display: none;\n",
              "      fill: #1967D2;\n",
              "      height: 32px;\n",
              "      padding: 0 0 0 0;\n",
              "      width: 32px;\n",
              "    }\n",
              "\n",
              "    .colab-df-convert:hover {\n",
              "      background-color: #E2EBFA;\n",
              "      box-shadow: 0px 1px 2px rgba(60, 64, 67, 0.3), 0px 1px 3px 1px rgba(60, 64, 67, 0.15);\n",
              "      fill: #174EA6;\n",
              "    }\n",
              "\n",
              "    [theme=dark] .colab-df-convert {\n",
              "      background-color: #3B4455;\n",
              "      fill: #D2E3FC;\n",
              "    }\n",
              "\n",
              "    [theme=dark] .colab-df-convert:hover {\n",
              "      background-color: #434B5C;\n",
              "      box-shadow: 0px 1px 3px 1px rgba(0, 0, 0, 0.15);\n",
              "      filter: drop-shadow(0px 1px 2px rgba(0, 0, 0, 0.3));\n",
              "      fill: #FFFFFF;\n",
              "    }\n",
              "  </style>\n",
              "\n",
              "      <script>\n",
              "        const buttonEl =\n",
              "          document.querySelector('#df-df1e3102-3edc-4f61-b3d8-70da0cdfcfaa button.colab-df-convert');\n",
              "        buttonEl.style.display =\n",
              "          google.colab.kernel.accessAllowed ? 'block' : 'none';\n",
              "\n",
              "        async function convertToInteractive(key) {\n",
              "          const element = document.querySelector('#df-df1e3102-3edc-4f61-b3d8-70da0cdfcfaa');\n",
              "          const dataTable =\n",
              "            await google.colab.kernel.invokeFunction('convertToInteractive',\n",
              "                                                     [key], {});\n",
              "          if (!dataTable) return;\n",
              "\n",
              "          const docLinkHtml = 'Like what you see? Visit the ' +\n",
              "            '<a target=\"_blank\" href=https://colab.research.google.com/notebooks/data_table.ipynb>data table notebook</a>'\n",
              "            + ' to learn more about interactive tables.';\n",
              "          element.innerHTML = '';\n",
              "          dataTable['output_type'] = 'display_data';\n",
              "          await google.colab.output.renderOutput(dataTable, element);\n",
              "          const docLink = document.createElement('div');\n",
              "          docLink.innerHTML = docLinkHtml;\n",
              "          element.appendChild(docLink);\n",
              "        }\n",
              "      </script>\n",
              "    </div>\n",
              "  </div>\n",
              "  "
            ]
          },
          "metadata": {},
          "execution_count": 40
        }
      ]
    },
    {
      "cell_type": "markdown",
      "source": [
        "# EXPLORACION DE DATOS:\n",
        "El dataset nos provee los siguientes datos:\n",
        "\n",
        "*   Manufacturer/Fabricante: Cualitativa nominal\n",
        "*   Model/Modelo: Cualitativa nominal\n",
        "*   Sales_in_thiusands/Ventas en miles: Cuantitativa continua\n",
        "*   year_resale_value/valor de reventa anual: Cuantitativa continua\n",
        "*   vehicle_type/tipo de vehiculo: Cualitativa nominal binaria\n",
        "*   price_in_thousands/precio en miles: Cuantitativa continua\n",
        "*   engine_size/tamaño del motor: Cuantitativa continua\n",
        "*   Horsepower/caballos de fuerza: Cuantitativa discreta\n",
        "*   Wheelbase/distancia entre sus ruedas: Cuantitativa continua\n",
        "*   Width/ancho: Cuantitativa continua\n",
        "*   Lenght/largo: Cuantitativa continua\n",
        "*   curb_weight/peso del vehiculo: Cuantitativa continua\n",
        "*   Fuel_capacity: capacidad de combustible: Cuantitativa continua\n",
        "*   Fuel_efficience/eficiencia del tanque: Cuantitativa\n",
        "*   Latest_launch/fecha ult lanzamiento: Cuantitativa continua\n",
        "*   Power_perf_factor/rendimiento: Cuantitativa continua\n",
        "\n",
        "\n",
        "\n",
        "\n",
        "\n",
        "\n",
        "\n",
        "\n",
        "\n",
        "\n",
        "\n",
        "\n",
        "\n"
      ],
      "metadata": {
        "id": "Eh57EF2IQgGR"
      }
    },
    {
      "cell_type": "markdown",
      "source": [
        "Cantidad de filas y columnas"
      ],
      "metadata": {
        "id": "ba2HJCkV_7BH"
      }
    },
    {
      "cell_type": "code",
      "source": [
        "df.shape"
      ],
      "metadata": {
        "colab": {
          "base_uri": "https://localhost:8080/"
        },
        "id": "Vy5-rplEACAR",
        "outputId": "c64a5067-7257-4612-9575-0732912f7872"
      },
      "execution_count": null,
      "outputs": [
        {
          "output_type": "execute_result",
          "data": {
            "text/plain": [
              "(157, 16)"
            ]
          },
          "metadata": {},
          "execution_count": 41
        }
      ]
    },
    {
      "cell_type": "markdown",
      "source": [
        "cantidad de valores nulos, 0, unicos y tipos de datos"
      ],
      "metadata": {
        "id": "Ma8GmoGEBbSR"
      }
    },
    {
      "cell_type": "code",
      "source": [
        "def status(data):\n",
        "\n",
        "    data2=data\n",
        "\n",
        "    tot_rows=len(data2)\n",
        "    \n",
        "    d2=data2.isnull().sum().reset_index()\n",
        "    d2.columns=['variable', 'q_nan']\n",
        "    \n",
        "    d2[['p_nan']]=d2[['q_nan']]/tot_rows\n",
        "    \n",
        "    d2['q_zeros']=(data2==0).sum().values\n",
        "\n",
        "    d2['p_zeros']=d2[['q_zeros']]/tot_rows\n",
        "\n",
        "    d2['unique']=data2.nunique().values\n",
        "    \n",
        "    d2['type']=[str(x) for x in data2.dtypes.values]\n",
        "    \n",
        "    return(d2)\n",
        "\n",
        "status(df)"
      ],
      "metadata": {
        "colab": {
          "base_uri": "https://localhost:8080/",
          "height": 551
        },
        "id": "GJCJVM1WBoXA",
        "outputId": "9e386a58-c634-432a-86a7-c3ab631b4775"
      },
      "execution_count": null,
      "outputs": [
        {
          "output_type": "execute_result",
          "data": {
            "text/plain": [
              "               variable  q_nan     p_nan  q_zeros  p_zeros  unique     type\n",
              "0          Manufacturer      0  0.000000        0      0.0      30   object\n",
              "1                 Model      0  0.000000        0      0.0     156   object\n",
              "2    Sales_in_thousands      0  0.000000        0      0.0     157  float64\n",
              "3   __year_resale_value     36  0.229299        0      0.0     117  float64\n",
              "4          Vehicle_type      0  0.000000        0      0.0       2   object\n",
              "5    Price_in_thousands      2  0.012739        0      0.0     152  float64\n",
              "6           Engine_size      1  0.006369        0      0.0      31  float64\n",
              "7            Horsepower      1  0.006369        0      0.0      66  float64\n",
              "8             Wheelbase      1  0.006369        0      0.0      88  float64\n",
              "9                 Width      1  0.006369        0      0.0      78  float64\n",
              "10               Length      1  0.006369        0      0.0     127  float64\n",
              "11          Curb_weight      2  0.012739        0      0.0     147  float64\n",
              "12        Fuel_capacity      1  0.006369        0      0.0      55  float64\n",
              "13      Fuel_efficiency      3  0.019108        0      0.0      20  float64\n",
              "14        Latest_Launch      0  0.000000        0      0.0     130   object\n",
              "15    Power_perf_factor      2  0.012739        0      0.0     154  float64"
            ],
            "text/html": [
              "\n",
              "  <div id=\"df-0beb930b-7a69-43a2-b4e7-024e79f2ac1a\">\n",
              "    <div class=\"colab-df-container\">\n",
              "      <div>\n",
              "<style scoped>\n",
              "    .dataframe tbody tr th:only-of-type {\n",
              "        vertical-align: middle;\n",
              "    }\n",
              "\n",
              "    .dataframe tbody tr th {\n",
              "        vertical-align: top;\n",
              "    }\n",
              "\n",
              "    .dataframe thead th {\n",
              "        text-align: right;\n",
              "    }\n",
              "</style>\n",
              "<table border=\"1\" class=\"dataframe\">\n",
              "  <thead>\n",
              "    <tr style=\"text-align: right;\">\n",
              "      <th></th>\n",
              "      <th>variable</th>\n",
              "      <th>q_nan</th>\n",
              "      <th>p_nan</th>\n",
              "      <th>q_zeros</th>\n",
              "      <th>p_zeros</th>\n",
              "      <th>unique</th>\n",
              "      <th>type</th>\n",
              "    </tr>\n",
              "  </thead>\n",
              "  <tbody>\n",
              "    <tr>\n",
              "      <th>0</th>\n",
              "      <td>Manufacturer</td>\n",
              "      <td>0</td>\n",
              "      <td>0.000000</td>\n",
              "      <td>0</td>\n",
              "      <td>0.0</td>\n",
              "      <td>30</td>\n",
              "      <td>object</td>\n",
              "    </tr>\n",
              "    <tr>\n",
              "      <th>1</th>\n",
              "      <td>Model</td>\n",
              "      <td>0</td>\n",
              "      <td>0.000000</td>\n",
              "      <td>0</td>\n",
              "      <td>0.0</td>\n",
              "      <td>156</td>\n",
              "      <td>object</td>\n",
              "    </tr>\n",
              "    <tr>\n",
              "      <th>2</th>\n",
              "      <td>Sales_in_thousands</td>\n",
              "      <td>0</td>\n",
              "      <td>0.000000</td>\n",
              "      <td>0</td>\n",
              "      <td>0.0</td>\n",
              "      <td>157</td>\n",
              "      <td>float64</td>\n",
              "    </tr>\n",
              "    <tr>\n",
              "      <th>3</th>\n",
              "      <td>__year_resale_value</td>\n",
              "      <td>36</td>\n",
              "      <td>0.229299</td>\n",
              "      <td>0</td>\n",
              "      <td>0.0</td>\n",
              "      <td>117</td>\n",
              "      <td>float64</td>\n",
              "    </tr>\n",
              "    <tr>\n",
              "      <th>4</th>\n",
              "      <td>Vehicle_type</td>\n",
              "      <td>0</td>\n",
              "      <td>0.000000</td>\n",
              "      <td>0</td>\n",
              "      <td>0.0</td>\n",
              "      <td>2</td>\n",
              "      <td>object</td>\n",
              "    </tr>\n",
              "    <tr>\n",
              "      <th>5</th>\n",
              "      <td>Price_in_thousands</td>\n",
              "      <td>2</td>\n",
              "      <td>0.012739</td>\n",
              "      <td>0</td>\n",
              "      <td>0.0</td>\n",
              "      <td>152</td>\n",
              "      <td>float64</td>\n",
              "    </tr>\n",
              "    <tr>\n",
              "      <th>6</th>\n",
              "      <td>Engine_size</td>\n",
              "      <td>1</td>\n",
              "      <td>0.006369</td>\n",
              "      <td>0</td>\n",
              "      <td>0.0</td>\n",
              "      <td>31</td>\n",
              "      <td>float64</td>\n",
              "    </tr>\n",
              "    <tr>\n",
              "      <th>7</th>\n",
              "      <td>Horsepower</td>\n",
              "      <td>1</td>\n",
              "      <td>0.006369</td>\n",
              "      <td>0</td>\n",
              "      <td>0.0</td>\n",
              "      <td>66</td>\n",
              "      <td>float64</td>\n",
              "    </tr>\n",
              "    <tr>\n",
              "      <th>8</th>\n",
              "      <td>Wheelbase</td>\n",
              "      <td>1</td>\n",
              "      <td>0.006369</td>\n",
              "      <td>0</td>\n",
              "      <td>0.0</td>\n",
              "      <td>88</td>\n",
              "      <td>float64</td>\n",
              "    </tr>\n",
              "    <tr>\n",
              "      <th>9</th>\n",
              "      <td>Width</td>\n",
              "      <td>1</td>\n",
              "      <td>0.006369</td>\n",
              "      <td>0</td>\n",
              "      <td>0.0</td>\n",
              "      <td>78</td>\n",
              "      <td>float64</td>\n",
              "    </tr>\n",
              "    <tr>\n",
              "      <th>10</th>\n",
              "      <td>Length</td>\n",
              "      <td>1</td>\n",
              "      <td>0.006369</td>\n",
              "      <td>0</td>\n",
              "      <td>0.0</td>\n",
              "      <td>127</td>\n",
              "      <td>float64</td>\n",
              "    </tr>\n",
              "    <tr>\n",
              "      <th>11</th>\n",
              "      <td>Curb_weight</td>\n",
              "      <td>2</td>\n",
              "      <td>0.012739</td>\n",
              "      <td>0</td>\n",
              "      <td>0.0</td>\n",
              "      <td>147</td>\n",
              "      <td>float64</td>\n",
              "    </tr>\n",
              "    <tr>\n",
              "      <th>12</th>\n",
              "      <td>Fuel_capacity</td>\n",
              "      <td>1</td>\n",
              "      <td>0.006369</td>\n",
              "      <td>0</td>\n",
              "      <td>0.0</td>\n",
              "      <td>55</td>\n",
              "      <td>float64</td>\n",
              "    </tr>\n",
              "    <tr>\n",
              "      <th>13</th>\n",
              "      <td>Fuel_efficiency</td>\n",
              "      <td>3</td>\n",
              "      <td>0.019108</td>\n",
              "      <td>0</td>\n",
              "      <td>0.0</td>\n",
              "      <td>20</td>\n",
              "      <td>float64</td>\n",
              "    </tr>\n",
              "    <tr>\n",
              "      <th>14</th>\n",
              "      <td>Latest_Launch</td>\n",
              "      <td>0</td>\n",
              "      <td>0.000000</td>\n",
              "      <td>0</td>\n",
              "      <td>0.0</td>\n",
              "      <td>130</td>\n",
              "      <td>object</td>\n",
              "    </tr>\n",
              "    <tr>\n",
              "      <th>15</th>\n",
              "      <td>Power_perf_factor</td>\n",
              "      <td>2</td>\n",
              "      <td>0.012739</td>\n",
              "      <td>0</td>\n",
              "      <td>0.0</td>\n",
              "      <td>154</td>\n",
              "      <td>float64</td>\n",
              "    </tr>\n",
              "  </tbody>\n",
              "</table>\n",
              "</div>\n",
              "      <button class=\"colab-df-convert\" onclick=\"convertToInteractive('df-0beb930b-7a69-43a2-b4e7-024e79f2ac1a')\"\n",
              "              title=\"Convert this dataframe to an interactive table.\"\n",
              "              style=\"display:none;\">\n",
              "        \n",
              "  <svg xmlns=\"http://www.w3.org/2000/svg\" height=\"24px\"viewBox=\"0 0 24 24\"\n",
              "       width=\"24px\">\n",
              "    <path d=\"M0 0h24v24H0V0z\" fill=\"none\"/>\n",
              "    <path d=\"M18.56 5.44l.94 2.06.94-2.06 2.06-.94-2.06-.94-.94-2.06-.94 2.06-2.06.94zm-11 1L8.5 8.5l.94-2.06 2.06-.94-2.06-.94L8.5 2.5l-.94 2.06-2.06.94zm10 10l.94 2.06.94-2.06 2.06-.94-2.06-.94-.94-2.06-.94 2.06-2.06.94z\"/><path d=\"M17.41 7.96l-1.37-1.37c-.4-.4-.92-.59-1.43-.59-.52 0-1.04.2-1.43.59L10.3 9.45l-7.72 7.72c-.78.78-.78 2.05 0 2.83L4 21.41c.39.39.9.59 1.41.59.51 0 1.02-.2 1.41-.59l7.78-7.78 2.81-2.81c.8-.78.8-2.07 0-2.86zM5.41 20L4 18.59l7.72-7.72 1.47 1.35L5.41 20z\"/>\n",
              "  </svg>\n",
              "      </button>\n",
              "      \n",
              "  <style>\n",
              "    .colab-df-container {\n",
              "      display:flex;\n",
              "      flex-wrap:wrap;\n",
              "      gap: 12px;\n",
              "    }\n",
              "\n",
              "    .colab-df-convert {\n",
              "      background-color: #E8F0FE;\n",
              "      border: none;\n",
              "      border-radius: 50%;\n",
              "      cursor: pointer;\n",
              "      display: none;\n",
              "      fill: #1967D2;\n",
              "      height: 32px;\n",
              "      padding: 0 0 0 0;\n",
              "      width: 32px;\n",
              "    }\n",
              "\n",
              "    .colab-df-convert:hover {\n",
              "      background-color: #E2EBFA;\n",
              "      box-shadow: 0px 1px 2px rgba(60, 64, 67, 0.3), 0px 1px 3px 1px rgba(60, 64, 67, 0.15);\n",
              "      fill: #174EA6;\n",
              "    }\n",
              "\n",
              "    [theme=dark] .colab-df-convert {\n",
              "      background-color: #3B4455;\n",
              "      fill: #D2E3FC;\n",
              "    }\n",
              "\n",
              "    [theme=dark] .colab-df-convert:hover {\n",
              "      background-color: #434B5C;\n",
              "      box-shadow: 0px 1px 3px 1px rgba(0, 0, 0, 0.15);\n",
              "      filter: drop-shadow(0px 1px 2px rgba(0, 0, 0, 0.3));\n",
              "      fill: #FFFFFF;\n",
              "    }\n",
              "  </style>\n",
              "\n",
              "      <script>\n",
              "        const buttonEl =\n",
              "          document.querySelector('#df-0beb930b-7a69-43a2-b4e7-024e79f2ac1a button.colab-df-convert');\n",
              "        buttonEl.style.display =\n",
              "          google.colab.kernel.accessAllowed ? 'block' : 'none';\n",
              "\n",
              "        async function convertToInteractive(key) {\n",
              "          const element = document.querySelector('#df-0beb930b-7a69-43a2-b4e7-024e79f2ac1a');\n",
              "          const dataTable =\n",
              "            await google.colab.kernel.invokeFunction('convertToInteractive',\n",
              "                                                     [key], {});\n",
              "          if (!dataTable) return;\n",
              "\n",
              "          const docLinkHtml = 'Like what you see? Visit the ' +\n",
              "            '<a target=\"_blank\" href=https://colab.research.google.com/notebooks/data_table.ipynb>data table notebook</a>'\n",
              "            + ' to learn more about interactive tables.';\n",
              "          element.innerHTML = '';\n",
              "          dataTable['output_type'] = 'display_data';\n",
              "          await google.colab.output.renderOutput(dataTable, element);\n",
              "          const docLink = document.createElement('div');\n",
              "          docLink.innerHTML = docLinkHtml;\n",
              "          element.appendChild(docLink);\n",
              "        }\n",
              "      </script>\n",
              "    </div>\n",
              "  </div>\n",
              "  "
            ]
          },
          "metadata": {},
          "execution_count": 42
        }
      ]
    },
    {
      "cell_type": "markdown",
      "source": [
        "Verificamos que no hayan datos duplicados"
      ],
      "metadata": {
        "id": "-0_VxwmnWdwM"
      }
    },
    {
      "cell_type": "code",
      "source": [
        "df.drop_duplicates(keep ='last')\n",
        "df.shape"
      ],
      "metadata": {
        "colab": {
          "base_uri": "https://localhost:8080/"
        },
        "id": "haw0AYABWjOF",
        "outputId": "74a3d80a-0759-49a1-9aa2-430b15481b9a"
      },
      "execution_count": null,
      "outputs": [
        {
          "output_type": "execute_result",
          "data": {
            "text/plain": [
              "(157, 16)"
            ]
          },
          "metadata": {},
          "execution_count": 43
        }
      ]
    },
    {
      "cell_type": "markdown",
      "source": [
        "Eliminamos valores nulos"
      ],
      "metadata": {
        "id": "DqSDwrNjaWD3"
      }
    },
    {
      "cell_type": "code",
      "source": [
        "df.isnull().sum()"
      ],
      "metadata": {
        "colab": {
          "base_uri": "https://localhost:8080/"
        },
        "id": "8fswP5P6afGw",
        "outputId": "306a73f6-d28e-4c42-98e5-1c012718911b"
      },
      "execution_count": null,
      "outputs": [
        {
          "output_type": "execute_result",
          "data": {
            "text/plain": [
              "Manufacturer            0\n",
              "Model                   0\n",
              "Sales_in_thousands      0\n",
              "__year_resale_value    36\n",
              "Vehicle_type            0\n",
              "Price_in_thousands      2\n",
              "Engine_size             1\n",
              "Horsepower              1\n",
              "Wheelbase               1\n",
              "Width                   1\n",
              "Length                  1\n",
              "Curb_weight             2\n",
              "Fuel_capacity           1\n",
              "Fuel_efficiency         3\n",
              "Latest_Launch           0\n",
              "Power_perf_factor       2\n",
              "dtype: int64"
            ]
          },
          "metadata": {},
          "execution_count": 44
        }
      ]
    },
    {
      "cell_type": "markdown",
      "source": [
        "Eliminamos la columna year_resale ya que contine bastantes nulos y no es considerada necesaria para el analisis"
      ],
      "metadata": {
        "id": "TEfaLmEMSYqW"
      }
    },
    {
      "cell_type": "code",
      "source": [
        "drop_cols = ['__year_resale_value']\n",
        "df = df.drop(drop_cols, axis = 1)\n"
      ],
      "metadata": {
        "id": "noAwsHR8SqEE"
      },
      "execution_count": null,
      "outputs": []
    },
    {
      "cell_type": "code",
      "source": [
        "len(df.columns)"
      ],
      "metadata": {
        "colab": {
          "base_uri": "https://localhost:8080/"
        },
        "id": "KuhXZNQiTvnS",
        "outputId": "0d255aa8-062f-47d3-8a00-b30164148455"
      },
      "execution_count": null,
      "outputs": [
        {
          "output_type": "execute_result",
          "data": {
            "text/plain": [
              "15"
            ]
          },
          "metadata": {},
          "execution_count": 46
        }
      ]
    },
    {
      "cell_type": "markdown",
      "source": [
        "Medidas de tendencia central para la potencia del vehiculo"
      ],
      "metadata": {
        "id": "IHrLx7NSUL5b"
      }
    },
    {
      "cell_type": "code",
      "source": [
        "print(\"Potencia media:\", df[\"Horsepower\"].mean())\n",
        "print(\"Potencia maxima:\", df[\"Horsepower\"].max())\n",
        "print(\"Potencia minima:\", df[\"Horsepower\"].min())"
      ],
      "metadata": {
        "colab": {
          "base_uri": "https://localhost:8080/"
        },
        "id": "f5WZgn0jT7tz",
        "outputId": "65a95599-7044-4683-9f31-7cdc87203117"
      },
      "execution_count": null,
      "outputs": [
        {
          "output_type": "stream",
          "name": "stdout",
          "text": [
            "Potencia media: 185.94871794871796\n",
            "Potencia maxima: 450.0\n",
            "Potencia minima: 55.0\n"
          ]
        }
      ]
    },
    {
      "cell_type": "code",
      "source": [
        "def max_min_val(col):\n",
        "  \n",
        "    primero = df[col].idxmax()\n",
        "    primer_obs = pd.DataFrame(df.loc[primero])\n",
        "    \n",
        "    last = df[col].idxmin()\n",
        "    last_obs = pd.DataFrame(df.loc[last])\n",
        "    \n",
        "    min_max_obs = pd.concat([primer_obs, last_obs], axis=1)\n",
        "    \n",
        "    return min_max_obs\n",
        "    \n"
      ],
      "metadata": {
        "id": "nJdn0-RnZGXd"
      },
      "execution_count": null,
      "outputs": []
    },
    {
      "cell_type": "code",
      "source": [
        "max_min_val('Horsepower')"
      ],
      "metadata": {
        "colab": {
          "base_uri": "https://localhost:8080/",
          "height": 520
        },
        "id": "jHwZKKD8VWfU",
        "outputId": "76e786fb-62e4-40b5-a995-f234101b6c5b"
      },
      "execution_count": null,
      "outputs": [
        {
          "output_type": "execute_result",
          "data": {
            "text/plain": [
              "                            39         26\n",
              "Manufacturer             Dodge  Chevrolet\n",
              "Model                    Viper      Metro\n",
              "Sales_in_thousands       0.916     21.855\n",
              "Vehicle_type         Passenger  Passenger\n",
              "Price_in_thousands      69.725      9.235\n",
              "Engine_size                8.0        1.0\n",
              "Horsepower               450.0       55.0\n",
              "Wheelbase                 96.2       93.1\n",
              "Width                     75.7       62.6\n",
              "Length                   176.7      149.4\n",
              "Curb_weight              3.375      1.895\n",
              "Fuel_capacity             19.0       10.3\n",
              "Fuel_efficiency           16.0       45.0\n",
              "Latest_Launch         8/7/2011  4/13/2012\n",
              "Power_perf_factor   188.144323  23.276272"
            ],
            "text/html": [
              "\n",
              "  <div id=\"df-4a46a22a-7131-4312-b9d0-1272c9d51364\">\n",
              "    <div class=\"colab-df-container\">\n",
              "      <div>\n",
              "<style scoped>\n",
              "    .dataframe tbody tr th:only-of-type {\n",
              "        vertical-align: middle;\n",
              "    }\n",
              "\n",
              "    .dataframe tbody tr th {\n",
              "        vertical-align: top;\n",
              "    }\n",
              "\n",
              "    .dataframe thead th {\n",
              "        text-align: right;\n",
              "    }\n",
              "</style>\n",
              "<table border=\"1\" class=\"dataframe\">\n",
              "  <thead>\n",
              "    <tr style=\"text-align: right;\">\n",
              "      <th></th>\n",
              "      <th>39</th>\n",
              "      <th>26</th>\n",
              "    </tr>\n",
              "  </thead>\n",
              "  <tbody>\n",
              "    <tr>\n",
              "      <th>Manufacturer</th>\n",
              "      <td>Dodge</td>\n",
              "      <td>Chevrolet</td>\n",
              "    </tr>\n",
              "    <tr>\n",
              "      <th>Model</th>\n",
              "      <td>Viper</td>\n",
              "      <td>Metro</td>\n",
              "    </tr>\n",
              "    <tr>\n",
              "      <th>Sales_in_thousands</th>\n",
              "      <td>0.916</td>\n",
              "      <td>21.855</td>\n",
              "    </tr>\n",
              "    <tr>\n",
              "      <th>Vehicle_type</th>\n",
              "      <td>Passenger</td>\n",
              "      <td>Passenger</td>\n",
              "    </tr>\n",
              "    <tr>\n",
              "      <th>Price_in_thousands</th>\n",
              "      <td>69.725</td>\n",
              "      <td>9.235</td>\n",
              "    </tr>\n",
              "    <tr>\n",
              "      <th>Engine_size</th>\n",
              "      <td>8.0</td>\n",
              "      <td>1.0</td>\n",
              "    </tr>\n",
              "    <tr>\n",
              "      <th>Horsepower</th>\n",
              "      <td>450.0</td>\n",
              "      <td>55.0</td>\n",
              "    </tr>\n",
              "    <tr>\n",
              "      <th>Wheelbase</th>\n",
              "      <td>96.2</td>\n",
              "      <td>93.1</td>\n",
              "    </tr>\n",
              "    <tr>\n",
              "      <th>Width</th>\n",
              "      <td>75.7</td>\n",
              "      <td>62.6</td>\n",
              "    </tr>\n",
              "    <tr>\n",
              "      <th>Length</th>\n",
              "      <td>176.7</td>\n",
              "      <td>149.4</td>\n",
              "    </tr>\n",
              "    <tr>\n",
              "      <th>Curb_weight</th>\n",
              "      <td>3.375</td>\n",
              "      <td>1.895</td>\n",
              "    </tr>\n",
              "    <tr>\n",
              "      <th>Fuel_capacity</th>\n",
              "      <td>19.0</td>\n",
              "      <td>10.3</td>\n",
              "    </tr>\n",
              "    <tr>\n",
              "      <th>Fuel_efficiency</th>\n",
              "      <td>16.0</td>\n",
              "      <td>45.0</td>\n",
              "    </tr>\n",
              "    <tr>\n",
              "      <th>Latest_Launch</th>\n",
              "      <td>8/7/2011</td>\n",
              "      <td>4/13/2012</td>\n",
              "    </tr>\n",
              "    <tr>\n",
              "      <th>Power_perf_factor</th>\n",
              "      <td>188.144323</td>\n",
              "      <td>23.276272</td>\n",
              "    </tr>\n",
              "  </tbody>\n",
              "</table>\n",
              "</div>\n",
              "      <button class=\"colab-df-convert\" onclick=\"convertToInteractive('df-4a46a22a-7131-4312-b9d0-1272c9d51364')\"\n",
              "              title=\"Convert this dataframe to an interactive table.\"\n",
              "              style=\"display:none;\">\n",
              "        \n",
              "  <svg xmlns=\"http://www.w3.org/2000/svg\" height=\"24px\"viewBox=\"0 0 24 24\"\n",
              "       width=\"24px\">\n",
              "    <path d=\"M0 0h24v24H0V0z\" fill=\"none\"/>\n",
              "    <path d=\"M18.56 5.44l.94 2.06.94-2.06 2.06-.94-2.06-.94-.94-2.06-.94 2.06-2.06.94zm-11 1L8.5 8.5l.94-2.06 2.06-.94-2.06-.94L8.5 2.5l-.94 2.06-2.06.94zm10 10l.94 2.06.94-2.06 2.06-.94-2.06-.94-.94-2.06-.94 2.06-2.06.94z\"/><path d=\"M17.41 7.96l-1.37-1.37c-.4-.4-.92-.59-1.43-.59-.52 0-1.04.2-1.43.59L10.3 9.45l-7.72 7.72c-.78.78-.78 2.05 0 2.83L4 21.41c.39.39.9.59 1.41.59.51 0 1.02-.2 1.41-.59l7.78-7.78 2.81-2.81c.8-.78.8-2.07 0-2.86zM5.41 20L4 18.59l7.72-7.72 1.47 1.35L5.41 20z\"/>\n",
              "  </svg>\n",
              "      </button>\n",
              "      \n",
              "  <style>\n",
              "    .colab-df-container {\n",
              "      display:flex;\n",
              "      flex-wrap:wrap;\n",
              "      gap: 12px;\n",
              "    }\n",
              "\n",
              "    .colab-df-convert {\n",
              "      background-color: #E8F0FE;\n",
              "      border: none;\n",
              "      border-radius: 50%;\n",
              "      cursor: pointer;\n",
              "      display: none;\n",
              "      fill: #1967D2;\n",
              "      height: 32px;\n",
              "      padding: 0 0 0 0;\n",
              "      width: 32px;\n",
              "    }\n",
              "\n",
              "    .colab-df-convert:hover {\n",
              "      background-color: #E2EBFA;\n",
              "      box-shadow: 0px 1px 2px rgba(60, 64, 67, 0.3), 0px 1px 3px 1px rgba(60, 64, 67, 0.15);\n",
              "      fill: #174EA6;\n",
              "    }\n",
              "\n",
              "    [theme=dark] .colab-df-convert {\n",
              "      background-color: #3B4455;\n",
              "      fill: #D2E3FC;\n",
              "    }\n",
              "\n",
              "    [theme=dark] .colab-df-convert:hover {\n",
              "      background-color: #434B5C;\n",
              "      box-shadow: 0px 1px 3px 1px rgba(0, 0, 0, 0.15);\n",
              "      filter: drop-shadow(0px 1px 2px rgba(0, 0, 0, 0.3));\n",
              "      fill: #FFFFFF;\n",
              "    }\n",
              "  </style>\n",
              "\n",
              "      <script>\n",
              "        const buttonEl =\n",
              "          document.querySelector('#df-4a46a22a-7131-4312-b9d0-1272c9d51364 button.colab-df-convert');\n",
              "        buttonEl.style.display =\n",
              "          google.colab.kernel.accessAllowed ? 'block' : 'none';\n",
              "\n",
              "        async function convertToInteractive(key) {\n",
              "          const element = document.querySelector('#df-4a46a22a-7131-4312-b9d0-1272c9d51364');\n",
              "          const dataTable =\n",
              "            await google.colab.kernel.invokeFunction('convertToInteractive',\n",
              "                                                     [key], {});\n",
              "          if (!dataTable) return;\n",
              "\n",
              "          const docLinkHtml = 'Like what you see? Visit the ' +\n",
              "            '<a target=\"_blank\" href=https://colab.research.google.com/notebooks/data_table.ipynb>data table notebook</a>'\n",
              "            + ' to learn more about interactive tables.';\n",
              "          element.innerHTML = '';\n",
              "          dataTable['output_type'] = 'display_data';\n",
              "          await google.colab.output.renderOutput(dataTable, element);\n",
              "          const docLink = document.createElement('div');\n",
              "          docLink.innerHTML = docLinkHtml;\n",
              "          element.appendChild(docLink);\n",
              "        }\n",
              "      </script>\n",
              "    </div>\n",
              "  </div>\n",
              "  "
            ]
          },
          "metadata": {},
          "execution_count": 49
        }
      ]
    },
    {
      "cell_type": "markdown",
      "source": [
        "Ordenados por potencia"
      ],
      "metadata": {
        "id": "ngeiIXn2bMZT"
      }
    },
    {
      "cell_type": "code",
      "source": [
        "df_sort = df.sort_values(by = 'Horsepower', ascending = False)\n",
        "df_sort.head(9)"
      ],
      "metadata": {
        "colab": {
          "base_uri": "https://localhost:8080/",
          "height": 430
        },
        "id": "rw4fpJ89VyVi",
        "outputId": "366cb94e-dca9-4f31-e422-81447cf27a27"
      },
      "execution_count": null,
      "outputs": [
        {
          "output_type": "execute_result",
          "data": {
            "text/plain": [
              "    Manufacturer           Model  Sales_in_thousands Vehicle_type  \\\n",
              "39         Dodge           Viper               0.916    Passenger   \n",
              "24     Chevrolet        Corvette              17.947    Passenger   \n",
              "6           Audi              A8               1.380    Passenger   \n",
              "99    Mercedes-B           CL500               0.954    Passenger   \n",
              "95    Mercedes-B        SL-Class               3.311    Passenger   \n",
              "78       Lincoln       Navigator              22.925          Car   \n",
              "72         Lexus           GS400               3.334    Passenger   \n",
              "125      Porsche   Carrera Coupe               1.280    Passenger   \n",
              "126      Porsche  Carrera Cabrio               1.866    Passenger   \n",
              "\n",
              "     Price_in_thousands  Engine_size  Horsepower  Wheelbase  Width  Length  \\\n",
              "39               69.725          8.0       450.0       96.2   75.7   176.7   \n",
              "24               45.705          5.7       345.0      104.5   73.6   179.7   \n",
              "6                62.000          4.2       310.0      113.0   74.0   198.2   \n",
              "99               85.500          5.0       302.0      113.6   73.1   196.6   \n",
              "95               82.600          5.0       302.0       99.0   71.3   177.1   \n",
              "78               42.660          5.4       300.0      119.0   79.9   204.8   \n",
              "72               46.305          4.0       300.0      110.2   70.9   189.2   \n",
              "125              71.020          3.4       300.0       92.6   69.5   174.5   \n",
              "126              74.970          3.4       300.0       92.6   69.5   174.5   \n",
              "\n",
              "     Curb_weight  Fuel_capacity  Fuel_efficiency Latest_Launch  \\\n",
              "39         3.375           19.0             16.0      8/7/2011   \n",
              "24         3.210           19.1             22.0     5/12/2012   \n",
              "6          3.902           23.7             21.0     2/27/2012   \n",
              "99         4.115           23.2             20.0     4/11/2011   \n",
              "95         4.125           21.1             20.0     3/17/2011   \n",
              "78         5.393           30.0             15.0    12/23/2012   \n",
              "72         3.693           19.8             21.0    11/28/2012   \n",
              "125        3.032           17.0             21.0    12/21/2012   \n",
              "126        3.075           17.0             23.0     7/11/2011   \n",
              "\n",
              "     Power_perf_factor  \n",
              "39          188.144323  \n",
              "24          141.141150  \n",
              "6           134.656858  \n",
              "99          141.100985  \n",
              "95          139.982294  \n",
              "78          123.972047  \n",
              "72          125.013357  \n",
              "125         134.390975  \n",
              "126         135.914710  "
            ],
            "text/html": [
              "\n",
              "  <div id=\"df-c0aa0d31-6dad-433a-b673-d4c70f37af44\">\n",
              "    <div class=\"colab-df-container\">\n",
              "      <div>\n",
              "<style scoped>\n",
              "    .dataframe tbody tr th:only-of-type {\n",
              "        vertical-align: middle;\n",
              "    }\n",
              "\n",
              "    .dataframe tbody tr th {\n",
              "        vertical-align: top;\n",
              "    }\n",
              "\n",
              "    .dataframe thead th {\n",
              "        text-align: right;\n",
              "    }\n",
              "</style>\n",
              "<table border=\"1\" class=\"dataframe\">\n",
              "  <thead>\n",
              "    <tr style=\"text-align: right;\">\n",
              "      <th></th>\n",
              "      <th>Manufacturer</th>\n",
              "      <th>Model</th>\n",
              "      <th>Sales_in_thousands</th>\n",
              "      <th>Vehicle_type</th>\n",
              "      <th>Price_in_thousands</th>\n",
              "      <th>Engine_size</th>\n",
              "      <th>Horsepower</th>\n",
              "      <th>Wheelbase</th>\n",
              "      <th>Width</th>\n",
              "      <th>Length</th>\n",
              "      <th>Curb_weight</th>\n",
              "      <th>Fuel_capacity</th>\n",
              "      <th>Fuel_efficiency</th>\n",
              "      <th>Latest_Launch</th>\n",
              "      <th>Power_perf_factor</th>\n",
              "    </tr>\n",
              "  </thead>\n",
              "  <tbody>\n",
              "    <tr>\n",
              "      <th>39</th>\n",
              "      <td>Dodge</td>\n",
              "      <td>Viper</td>\n",
              "      <td>0.916</td>\n",
              "      <td>Passenger</td>\n",
              "      <td>69.725</td>\n",
              "      <td>8.0</td>\n",
              "      <td>450.0</td>\n",
              "      <td>96.2</td>\n",
              "      <td>75.7</td>\n",
              "      <td>176.7</td>\n",
              "      <td>3.375</td>\n",
              "      <td>19.0</td>\n",
              "      <td>16.0</td>\n",
              "      <td>8/7/2011</td>\n",
              "      <td>188.144323</td>\n",
              "    </tr>\n",
              "    <tr>\n",
              "      <th>24</th>\n",
              "      <td>Chevrolet</td>\n",
              "      <td>Corvette</td>\n",
              "      <td>17.947</td>\n",
              "      <td>Passenger</td>\n",
              "      <td>45.705</td>\n",
              "      <td>5.7</td>\n",
              "      <td>345.0</td>\n",
              "      <td>104.5</td>\n",
              "      <td>73.6</td>\n",
              "      <td>179.7</td>\n",
              "      <td>3.210</td>\n",
              "      <td>19.1</td>\n",
              "      <td>22.0</td>\n",
              "      <td>5/12/2012</td>\n",
              "      <td>141.141150</td>\n",
              "    </tr>\n",
              "    <tr>\n",
              "      <th>6</th>\n",
              "      <td>Audi</td>\n",
              "      <td>A8</td>\n",
              "      <td>1.380</td>\n",
              "      <td>Passenger</td>\n",
              "      <td>62.000</td>\n",
              "      <td>4.2</td>\n",
              "      <td>310.0</td>\n",
              "      <td>113.0</td>\n",
              "      <td>74.0</td>\n",
              "      <td>198.2</td>\n",
              "      <td>3.902</td>\n",
              "      <td>23.7</td>\n",
              "      <td>21.0</td>\n",
              "      <td>2/27/2012</td>\n",
              "      <td>134.656858</td>\n",
              "    </tr>\n",
              "    <tr>\n",
              "      <th>99</th>\n",
              "      <td>Mercedes-B</td>\n",
              "      <td>CL500</td>\n",
              "      <td>0.954</td>\n",
              "      <td>Passenger</td>\n",
              "      <td>85.500</td>\n",
              "      <td>5.0</td>\n",
              "      <td>302.0</td>\n",
              "      <td>113.6</td>\n",
              "      <td>73.1</td>\n",
              "      <td>196.6</td>\n",
              "      <td>4.115</td>\n",
              "      <td>23.2</td>\n",
              "      <td>20.0</td>\n",
              "      <td>4/11/2011</td>\n",
              "      <td>141.100985</td>\n",
              "    </tr>\n",
              "    <tr>\n",
              "      <th>95</th>\n",
              "      <td>Mercedes-B</td>\n",
              "      <td>SL-Class</td>\n",
              "      <td>3.311</td>\n",
              "      <td>Passenger</td>\n",
              "      <td>82.600</td>\n",
              "      <td>5.0</td>\n",
              "      <td>302.0</td>\n",
              "      <td>99.0</td>\n",
              "      <td>71.3</td>\n",
              "      <td>177.1</td>\n",
              "      <td>4.125</td>\n",
              "      <td>21.1</td>\n",
              "      <td>20.0</td>\n",
              "      <td>3/17/2011</td>\n",
              "      <td>139.982294</td>\n",
              "    </tr>\n",
              "    <tr>\n",
              "      <th>78</th>\n",
              "      <td>Lincoln</td>\n",
              "      <td>Navigator</td>\n",
              "      <td>22.925</td>\n",
              "      <td>Car</td>\n",
              "      <td>42.660</td>\n",
              "      <td>5.4</td>\n",
              "      <td>300.0</td>\n",
              "      <td>119.0</td>\n",
              "      <td>79.9</td>\n",
              "      <td>204.8</td>\n",
              "      <td>5.393</td>\n",
              "      <td>30.0</td>\n",
              "      <td>15.0</td>\n",
              "      <td>12/23/2012</td>\n",
              "      <td>123.972047</td>\n",
              "    </tr>\n",
              "    <tr>\n",
              "      <th>72</th>\n",
              "      <td>Lexus</td>\n",
              "      <td>GS400</td>\n",
              "      <td>3.334</td>\n",
              "      <td>Passenger</td>\n",
              "      <td>46.305</td>\n",
              "      <td>4.0</td>\n",
              "      <td>300.0</td>\n",
              "      <td>110.2</td>\n",
              "      <td>70.9</td>\n",
              "      <td>189.2</td>\n",
              "      <td>3.693</td>\n",
              "      <td>19.8</td>\n",
              "      <td>21.0</td>\n",
              "      <td>11/28/2012</td>\n",
              "      <td>125.013357</td>\n",
              "    </tr>\n",
              "    <tr>\n",
              "      <th>125</th>\n",
              "      <td>Porsche</td>\n",
              "      <td>Carrera Coupe</td>\n",
              "      <td>1.280</td>\n",
              "      <td>Passenger</td>\n",
              "      <td>71.020</td>\n",
              "      <td>3.4</td>\n",
              "      <td>300.0</td>\n",
              "      <td>92.6</td>\n",
              "      <td>69.5</td>\n",
              "      <td>174.5</td>\n",
              "      <td>3.032</td>\n",
              "      <td>17.0</td>\n",
              "      <td>21.0</td>\n",
              "      <td>12/21/2012</td>\n",
              "      <td>134.390975</td>\n",
              "    </tr>\n",
              "    <tr>\n",
              "      <th>126</th>\n",
              "      <td>Porsche</td>\n",
              "      <td>Carrera Cabrio</td>\n",
              "      <td>1.866</td>\n",
              "      <td>Passenger</td>\n",
              "      <td>74.970</td>\n",
              "      <td>3.4</td>\n",
              "      <td>300.0</td>\n",
              "      <td>92.6</td>\n",
              "      <td>69.5</td>\n",
              "      <td>174.5</td>\n",
              "      <td>3.075</td>\n",
              "      <td>17.0</td>\n",
              "      <td>23.0</td>\n",
              "      <td>7/11/2011</td>\n",
              "      <td>135.914710</td>\n",
              "    </tr>\n",
              "  </tbody>\n",
              "</table>\n",
              "</div>\n",
              "      <button class=\"colab-df-convert\" onclick=\"convertToInteractive('df-c0aa0d31-6dad-433a-b673-d4c70f37af44')\"\n",
              "              title=\"Convert this dataframe to an interactive table.\"\n",
              "              style=\"display:none;\">\n",
              "        \n",
              "  <svg xmlns=\"http://www.w3.org/2000/svg\" height=\"24px\"viewBox=\"0 0 24 24\"\n",
              "       width=\"24px\">\n",
              "    <path d=\"M0 0h24v24H0V0z\" fill=\"none\"/>\n",
              "    <path d=\"M18.56 5.44l.94 2.06.94-2.06 2.06-.94-2.06-.94-.94-2.06-.94 2.06-2.06.94zm-11 1L8.5 8.5l.94-2.06 2.06-.94-2.06-.94L8.5 2.5l-.94 2.06-2.06.94zm10 10l.94 2.06.94-2.06 2.06-.94-2.06-.94-.94-2.06-.94 2.06-2.06.94z\"/><path d=\"M17.41 7.96l-1.37-1.37c-.4-.4-.92-.59-1.43-.59-.52 0-1.04.2-1.43.59L10.3 9.45l-7.72 7.72c-.78.78-.78 2.05 0 2.83L4 21.41c.39.39.9.59 1.41.59.51 0 1.02-.2 1.41-.59l7.78-7.78 2.81-2.81c.8-.78.8-2.07 0-2.86zM5.41 20L4 18.59l7.72-7.72 1.47 1.35L5.41 20z\"/>\n",
              "  </svg>\n",
              "      </button>\n",
              "      \n",
              "  <style>\n",
              "    .colab-df-container {\n",
              "      display:flex;\n",
              "      flex-wrap:wrap;\n",
              "      gap: 12px;\n",
              "    }\n",
              "\n",
              "    .colab-df-convert {\n",
              "      background-color: #E8F0FE;\n",
              "      border: none;\n",
              "      border-radius: 50%;\n",
              "      cursor: pointer;\n",
              "      display: none;\n",
              "      fill: #1967D2;\n",
              "      height: 32px;\n",
              "      padding: 0 0 0 0;\n",
              "      width: 32px;\n",
              "    }\n",
              "\n",
              "    .colab-df-convert:hover {\n",
              "      background-color: #E2EBFA;\n",
              "      box-shadow: 0px 1px 2px rgba(60, 64, 67, 0.3), 0px 1px 3px 1px rgba(60, 64, 67, 0.15);\n",
              "      fill: #174EA6;\n",
              "    }\n",
              "\n",
              "    [theme=dark] .colab-df-convert {\n",
              "      background-color: #3B4455;\n",
              "      fill: #D2E3FC;\n",
              "    }\n",
              "\n",
              "    [theme=dark] .colab-df-convert:hover {\n",
              "      background-color: #434B5C;\n",
              "      box-shadow: 0px 1px 3px 1px rgba(0, 0, 0, 0.15);\n",
              "      filter: drop-shadow(0px 1px 2px rgba(0, 0, 0, 0.3));\n",
              "      fill: #FFFFFF;\n",
              "    }\n",
              "  </style>\n",
              "\n",
              "      <script>\n",
              "        const buttonEl =\n",
              "          document.querySelector('#df-c0aa0d31-6dad-433a-b673-d4c70f37af44 button.colab-df-convert');\n",
              "        buttonEl.style.display =\n",
              "          google.colab.kernel.accessAllowed ? 'block' : 'none';\n",
              "\n",
              "        async function convertToInteractive(key) {\n",
              "          const element = document.querySelector('#df-c0aa0d31-6dad-433a-b673-d4c70f37af44');\n",
              "          const dataTable =\n",
              "            await google.colab.kernel.invokeFunction('convertToInteractive',\n",
              "                                                     [key], {});\n",
              "          if (!dataTable) return;\n",
              "\n",
              "          const docLinkHtml = 'Like what you see? Visit the ' +\n",
              "            '<a target=\"_blank\" href=https://colab.research.google.com/notebooks/data_table.ipynb>data table notebook</a>'\n",
              "            + ' to learn more about interactive tables.';\n",
              "          element.innerHTML = '';\n",
              "          dataTable['output_type'] = 'display_data';\n",
              "          await google.colab.output.renderOutput(dataTable, element);\n",
              "          const docLink = document.createElement('div');\n",
              "          docLink.innerHTML = docLinkHtml;\n",
              "          element.appendChild(docLink);\n",
              "        }\n",
              "      </script>\n",
              "    </div>\n",
              "  </div>\n",
              "  "
            ]
          },
          "metadata": {},
          "execution_count": 50
        }
      ]
    },
    {
      "cell_type": "markdown",
      "source": [
        "Relacion entre el tamaño del motor y los caballos de fuerza"
      ],
      "metadata": {
        "id": "7ZUTAMAbWHRA"
      }
    },
    {
      "cell_type": "code",
      "source": [
        "df.plot.scatter(\"Horsepower\", \"Engine_size\", alpha=0.7);"
      ],
      "metadata": {
        "colab": {
          "base_uri": "https://localhost:8080/",
          "height": 279
        },
        "id": "uwJ7gp_YWFj5",
        "outputId": "dac9c1c9-2e04-4b63-af0c-985082eae1f8"
      },
      "execution_count": null,
      "outputs": [
        {
          "output_type": "display_data",
          "data": {
            "text/plain": [
              "<Figure size 432x288 with 1 Axes>"
            ],
            "image/png": "[encoded data removed]"
          },
          "metadata": {
            "needs_background": "light"
          }
        }
      ]
    },
    {
      "cell_type": "markdown",
      "source": [
        "Distribucion de automoviles segun su consumo de combustible"
      ],
      "metadata": {
        "id": "Mop1ZWmdW9_3"
      }
    },
    {
      "cell_type": "code",
      "source": [
        "df.Fuel_efficiency.plot.hist(bins=19, grid=False, rwidth=0.90);"
      ],
      "metadata": {
        "colab": {
          "base_uri": "https://localhost:8080/",
          "height": 265
        },
        "id": "_VptZE2xW0x2",
        "outputId": "ba6ff194-ebe5-4e55-a6af-67eadd9e7a33"
      },
      "execution_count": null,
      "outputs": [
        {
          "output_type": "display_data",
          "data": {
            "text/plain": [
              "<Figure size 432x288 with 1 Axes>"
            ],
            "image/png": "[encoded data removed]"
          },
          "metadata": {
            "needs_background": "light"
          }
        }
      ]
    },
    {
      "cell_type": "markdown",
      "source": [
        "Precio promedio por fabricante"
      ],
      "metadata": {
        "id": "fBHM5sSMXr8r"
      }
    },
    {
      "cell_type": "code",
      "source": [
        "df.groupby(\"Manufacturer\")[\"Price_in_thousands\"].mean().sort_values(ascending=False)*1000"
      ],
      "metadata": {
        "colab": {
          "base_uri": "https://localhost:8080/"
        },
        "id": "gQNEUdSKXvyA",
        "outputId": "54b311a1-8c54-45e8-8965-71783f0ea11b"
      },
      "execution_count": null,
      "outputs": [
        {
          "output_type": "execute_result",
          "data": {
            "text/plain": [
              "Manufacturer\n",
              "Porsche       62473.333333\n",
              "Mercedes-B    52916.666667\n",
              "Lexus         44055.000000\n",
              "Jaguar        42800.000000\n",
              "Lincoln       41690.000000\n",
              "Cadillac      40254.000000\n",
              "Audi          39980.000000\n",
              "BMW           33096.666667\n",
              "Volvo         30933.333333\n",
              "Acura         30633.333333\n",
              "Saab          29610.000000\n",
              "Infiniti      29465.000000\n",
              "Buick         26781.250000\n",
              "Oldsmobile    25622.833333\n",
              "Dodge         24213.636364\n",
              "Chrysler      23430.833333\n",
              "Pontiac       22949.166667\n",
              "Plymouth      22642.500000\n",
              "Nissan        22360.714286\n",
              "Mitsubishi    22167.428571\n",
              "Toyota        21982.888889\n",
              "Subaru        21395.000000\n",
              "Ford          21047.272727\n",
              "Jeep          20991.666667\n",
              "Mercury       20748.333333\n",
              "Honda         20277.000000\n",
              "Chevrolet     20022.777778\n",
              "Volkswagen    17698.333333\n",
              "Saturn        14271.000000\n",
              "Hyundai       12165.666667\n",
              "Name: Price_in_thousands, dtype: float64"
            ]
          },
          "metadata": {},
          "execution_count": 53
        }
      ]
    },
    {
      "cell_type": "markdown",
      "source": [
        "Trabajamos los valores nulos"
      ],
      "metadata": {
        "id": "TQYrse0NgB0G"
      }
    },
    {
      "cell_type": "code",
      "source": [
        "def clean_missing(df):\n",
        "    from sklearn.impute import SimpleImputer\n",
        "    from sklearn.pipeline import Pipeline\n",
        "    from sklearn.compose import ColumnTransformer\n",
        "    \n",
        "    df_missing_values=df.isnull().sum()\n",
        "    \n",
        "    df_numeric_columns=df.select_dtypes(include=[\"int64\",\"float64\"]).keys()\n",
        "    columns_numeric_missing=[var for var in df_numeric_columns if df_missing_values[var]>0]\n",
        "    \n",
        "    df_categorical_columns=df.select_dtypes(include=[\"object\"]).keys()\n",
        "    columns_categorical_missing=[var for var in df_categorical_columns if df_missing_values[var]>0]\n",
        "    \n",
        "    numeric_value_mean_imputer=Pipeline(steps=[(\"imputer\",SimpleImputer(strategy='mean'))])\n",
        "\n",
        "    categorical_value_mode_imputer=Pipeline(steps=[(\"imputer\",SimpleImputer(strategy='most_frequent'))])\n",
        "\n",
        "    preprocessing=ColumnTransformer(transformers=[(\"mean_imputer\", numeric_value_mean_imputer, columns_numeric_missing),\n",
        "                                              (\"mode_imputer\", categorical_value_mode_imputer, columns_categorical_missing)])\n",
        "    df_clean_null_value=preprocessing.fit_transform(df)\n",
        "    \n",
        "    df_missing_value_solve=pd.DataFrame(df_clean_null_value, columns=columns_categorical_missing+columns_numeric_missing)\n",
        "    \n",
        "    df.update(df_missing_value_solve)\n",
        "    \n",
        "    return df"
      ],
      "metadata": {
        "id": "A1aRcjLSgJVg"
      },
      "execution_count": null,
      "outputs": []
    },
    {
      "cell_type": "code",
      "source": [
        "df=clean_missing(df)"
      ],
      "metadata": {
        "id": "q_glM5BCgd1P"
      },
      "execution_count": null,
      "outputs": []
    },
    {
      "cell_type": "code",
      "source": [
        "df.info()"
      ],
      "metadata": {
        "colab": {
          "base_uri": "https://localhost:8080/"
        },
        "id": "I1SAhs8hg16o",
        "outputId": "c4105789-8079-41d8-f632-d9e82d10a613"
      },
      "execution_count": null,
      "outputs": [
        {
          "output_type": "stream",
          "name": "stdout",
          "text": [
            "<class 'pandas.core.frame.DataFrame'>\n",
            "RangeIndex: 157 entries, 0 to 156\n",
            "Data columns (total 15 columns):\n",
            " #   Column              Non-Null Count  Dtype  \n",
            "---  ------              --------------  -----  \n",
            " 0   Manufacturer        157 non-null    object \n",
            " 1   Model               157 non-null    object \n",
            " 2   Sales_in_thousands  157 non-null    float64\n",
            " 3   Vehicle_type        157 non-null    object \n",
            " 4   Price_in_thousands  157 non-null    float64\n",
            " 5   Engine_size         157 non-null    float64\n",
            " 6   Horsepower          157 non-null    float64\n",
            " 7   Wheelbase           157 non-null    float64\n",
            " 8   Width               157 non-null    float64\n",
            " 9   Length              157 non-null    float64\n",
            " 10  Curb_weight         157 non-null    float64\n",
            " 11  Fuel_capacity       157 non-null    float64\n",
            " 12  Fuel_efficiency     157 non-null    float64\n",
            " 13  Latest_Launch       157 non-null    object \n",
            " 14  Power_perf_factor   157 non-null    float64\n",
            "dtypes: float64(11), object(4)\n",
            "memory usage: 18.5+ KB\n"
          ]
        }
      ]
    },
    {
      "cell_type": "markdown",
      "source": [
        "# Prediccion del precio por potencia\n",
        "\n",
        "para ello utilizaremos el modelo de regresion lineal"
      ],
      "metadata": {
        "id": "oMwr_ufd57Jx"
      }
    },
    {
      "cell_type": "markdown",
      "source": [
        "ENTRENAMIENTO:"
      ],
      "metadata": {
        "id": "hWOqIc9a6XHC"
      }
    },
    {
      "cell_type": "code",
      "source": [
        "explicativas = df[['Horsepower']]"
      ],
      "metadata": {
        "id": "nIEEpoTTiMcD"
      },
      "execution_count": null,
      "outputs": []
    },
    {
      "cell_type": "code",
      "source": [
        "objetivo = df['Price_in_thousands']"
      ],
      "metadata": {
        "id": "EfX5zhvziZu_"
      },
      "execution_count": null,
      "outputs": []
    },
    {
      "cell_type": "code",
      "source": [
        "from sklearn.linear_model import LinearRegression "
      ],
      "metadata": {
        "id": "TLSTm1czil4w"
      },
      "execution_count": null,
      "outputs": []
    },
    {
      "cell_type": "code",
      "source": [
        "model = LinearRegression()"
      ],
      "metadata": {
        "id": "4ykgfO_-jCFl"
      },
      "execution_count": null,
      "outputs": []
    },
    {
      "cell_type": "code",
      "source": [
        "type(model)"
      ],
      "metadata": {
        "colab": {
          "base_uri": "https://localhost:8080/"
        },
        "id": "LRZYlC_5jECt",
        "outputId": "4b10d553-b3da-41b1-dde2-16b170451373"
      },
      "execution_count": null,
      "outputs": [
        {
          "output_type": "execute_result",
          "data": {
            "text/plain": [
              "sklearn.linear_model._base.LinearRegression"
            ]
          },
          "metadata": {},
          "execution_count": 61
        }
      ]
    },
    {
      "cell_type": "code",
      "source": [
        "model.fit(X=explicativas, y=objetivo)"
      ],
      "metadata": {
        "colab": {
          "base_uri": "https://localhost:8080/"
        },
        "id": "jP0R4pYKjIoD",
        "outputId": "40eabf94-757c-4766-8f20-e2a401b58a03"
      },
      "execution_count": null,
      "outputs": [
        {
          "output_type": "execute_result",
          "data": {
            "text/plain": [
              "LinearRegression()"
            ]
          },
          "metadata": {},
          "execution_count": 63
        }
      ]
    },
    {
      "cell_type": "code",
      "source": [
        "model.__dict__"
      ],
      "metadata": {
        "colab": {
          "base_uri": "https://localhost:8080/"
        },
        "id": "u_8b_v4Djj-0",
        "outputId": "85de1259-74cd-4da1-bcc5-1917738e9aaa"
      },
      "execution_count": null,
      "outputs": [
        {
          "output_type": "execute_result",
          "data": {
            "text/plain": [
              "{'_residues': 9420.708052171867,\n",
              " 'coef_': array([0.21153784]),\n",
              " 'copy_X': True,\n",
              " 'feature_names_in_': array(['Horsepower'], dtype=object),\n",
              " 'fit_intercept': True,\n",
              " 'intercept_': -11.944434583163229,\n",
              " 'n_features_in_': 1,\n",
              " 'n_jobs': None,\n",
              " 'normalize': 'deprecated',\n",
              " 'positive': False,\n",
              " 'rank_': 1,\n",
              " 'singular_': array([705.91330186])}"
            ]
          },
          "metadata": {},
          "execution_count": 64
        }
      ]
    },
    {
      "cell_type": "markdown",
      "source": [
        "PREDICCION"
      ],
      "metadata": {
        "id": "pQsDpkaUs9vU"
      }
    },
    {
      "cell_type": "code",
      "source": [
        "model.predict(X=df[['Horsepower']])"
      ],
      "metadata": {
        "colab": {
          "base_uri": "https://localhost:8080/"
        },
        "id": "eTqf9zZZo_ar",
        "outputId": "2b271e7b-b17f-4c98-a6c7-f22e5aa4330a"
      },
      "execution_count": null,
      "outputs": [
        {
          "output_type": "execute_result",
          "data": {
            "text/plain": [
              "array([17.67086247, 35.65157854, 35.65157854, 32.478511  , 19.78624083,\n",
              "       30.36313264, 53.63229461, 24.01699756, 28.88236779, 28.88236779,\n",
              "       25.07468674, 38.82464608, 31.42082182, 31.42082182, 46.22847035,\n",
              "       46.22847035, 46.22847035, 30.36313264, 41.99771362, 12.38241657,\n",
              "       24.01699756, 25.07468674, 26.13237592, 30.36313264, 61.03611887,\n",
              "       13.44010575, -0.3098536 , 26.13237592, 22.5362327 , 23.59392188,\n",
              "       30.36313264, 15.97855978, 41.57463795, 27.39075484, 41.57463795,\n",
              "       15.97855978, 22.5362327 , 23.59392188, 30.78620831, 83.24759167,\n",
              "       36.70926772, 25.07468674, 25.07468674, 13.44010575, 36.70926772,\n",
              "       19.78624083, 11.32472739, 28.24775428, 24.01699756, 20.84393001,\n",
              "       10.69011388, 30.36313264, 32.478511  , 19.78624083, 38.82464608,\n",
              "       13.22856791, 34.59388936, 10.47857604, 16.61317329, 18.94008949,\n",
              "       31.42082182, 32.478511  ,  7.51704634, 17.67086247, 19.36316516,\n",
              "       36.07465421, 38.82464608, 13.44010575, 28.24775428, 29.30544346,\n",
              "       32.478511  , 35.65157854, 51.51691625, 49.40153789, 36.70926772,\n",
              "       34.59388936, 46.22847035, 33.53620018, 51.51691625, 11.9593409 ,\n",
              "       20.63239218, 18.72855165, 32.478511  , 22.11315703, 30.36313264,\n",
              "       24.65161106, 14.49779493, 14.49779493, 20.42085434, 30.36313264,\n",
              "       32.478511  , 24.01699756, 27.1900651 , 34.8054272 , 46.22847035,\n",
              "       51.93999192, 28.24775428, 27.1900651 , 33.53620018, 51.93999192,\n",
              "       33.53620018, 14.70933277, 20.84393001, 35.01696503, 24.01699756,\n",
              "       24.01699756, 24.01699756, 24.01699756, 19.78624083, 33.53620018,\n",
              "       19.78624083, 40.94002444, 28.24775428, 27.1900651 , 15.97855978,\n",
              "       15.97855978, 19.78624083, 41.57463795, 19.78624083, 25.07468674,\n",
              "       30.36313264, 29.30544346, 31.42082182, 27.1900651 , 33.95927585,\n",
              "       51.51691625, 51.51691625, 24.01699756, 27.1900651 ,  9.20934903,\n",
              "        9.20934903, 14.28625709, 17.03624896, 17.03624896, 22.95930837,\n",
              "       22.95930837, 13.44010575, 16.19009762, 32.478511  , 17.67086247,\n",
              "       18.09393814, 29.09390562, 14.9208706 , 19.78624083, 36.70926772,\n",
              "       12.38241657, 12.38241657, 19.78624083, 12.38241657, 12.38241657,\n",
              "       12.38241657, 21.90161919, 21.90161919, 23.59392188, 23.59392188,\n",
              "       37.97849474, 30.57467047])"
            ]
          },
          "metadata": {},
          "execution_count": 67
        }
      ]
    },
    {
      "cell_type": "code",
      "source": [
        "y_pred = model.predict(X=df[['Horsepower']])"
      ],
      "metadata": {
        "id": "pQohbk1Lqdtp"
      },
      "execution_count": null,
      "outputs": []
    },
    {
      "cell_type": "code",
      "source": [
        "df.insert(0,'pred',y_pred)"
      ],
      "metadata": {
        "id": "33DVlyvEqqny"
      },
      "execution_count": null,
      "outputs": []
    },
    {
      "cell_type": "code",
      "source": [
        "df"
      ],
      "metadata": {
        "colab": {
          "base_uri": "https://localhost:8080/",
          "height": 488
        },
        "id": "HrMlftOKq7dy",
        "outputId": "f1c13c20-e01e-4aaa-9ef0-fa7dec4c7537"
      },
      "execution_count": null,
      "outputs": [
        {
          "output_type": "execute_result",
          "data": {
            "text/plain": [
              "          pred Manufacturer    Model  Sales_in_thousands Vehicle_type  \\\n",
              "0    17.670862        Acura  Integra              16.919    Passenger   \n",
              "1    35.651579        Acura       TL              39.384    Passenger   \n",
              "2    35.651579        Acura       CL              14.114    Passenger   \n",
              "3    32.478511        Acura       RL               8.588    Passenger   \n",
              "4    19.786241         Audi       A4              20.397    Passenger   \n",
              "..         ...          ...      ...                 ...          ...   \n",
              "152  21.901619        Volvo      V40               3.545    Passenger   \n",
              "153  23.593922        Volvo      S70              15.245    Passenger   \n",
              "154  23.593922        Volvo      V70              17.531    Passenger   \n",
              "155  37.978495        Volvo      C70               3.493    Passenger   \n",
              "156  30.574670        Volvo      S80              18.969    Passenger   \n",
              "\n",
              "     Price_in_thousands  Engine_size  Horsepower  Wheelbase  Width  Length  \\\n",
              "0             21.500000          1.8       140.0      101.2   67.3   172.4   \n",
              "1             28.400000          3.2       225.0      108.1   70.3   192.9   \n",
              "2             27.390755          3.2       225.0      106.9   70.6   192.0   \n",
              "3             42.000000          3.5       210.0      114.6   71.4   196.6   \n",
              "4             23.990000          1.8       150.0      102.6   68.2   178.0   \n",
              "..                  ...          ...         ...        ...    ...     ...   \n",
              "152           24.400000          1.9       160.0      100.5   67.6   176.6   \n",
              "153           27.500000          2.4       168.0      104.9   69.3   185.9   \n",
              "154           28.800000          2.4       168.0      104.9   69.3   186.2   \n",
              "155           45.500000          2.3       236.0      104.9   71.5   185.7   \n",
              "156           36.000000          2.9       201.0      109.9   72.1   189.8   \n",
              "\n",
              "     Curb_weight  Fuel_capacity  Fuel_efficiency Latest_Launch  \\\n",
              "0          2.639           13.2             28.0      2/2/2012   \n",
              "1          3.517           17.2             25.0      6/3/2011   \n",
              "2          3.470           17.2             26.0      1/4/2012   \n",
              "3          3.850           18.0             22.0     3/10/2011   \n",
              "4          2.998           16.4             27.0     10/8/2011   \n",
              "..           ...            ...              ...           ...   \n",
              "152        3.042           15.8             25.0     9/21/2011   \n",
              "153        3.208           17.9             25.0    11/24/2012   \n",
              "154        3.259           17.9             25.0     6/25/2011   \n",
              "155        3.601           18.5             23.0     4/26/2011   \n",
              "156        3.600           21.1             24.0    11/14/2011   \n",
              "\n",
              "     Power_perf_factor  \n",
              "0            58.280150  \n",
              "1            91.370778  \n",
              "2            77.043591  \n",
              "3            91.389779  \n",
              "4            62.777639  \n",
              "..                 ...  \n",
              "152          66.498812  \n",
              "153          70.654495  \n",
              "154          71.155978  \n",
              "155         101.623357  \n",
              "156          85.735655  \n",
              "\n",
              "[157 rows x 16 columns]"
            ],
            "text/html": [
              "\n",
              "  <div id=\"df-d48576a9-f646-49ab-ad47-7ede5ff141e3\">\n",
              "    <div class=\"colab-df-container\">\n",
              "      <div>\n",
              "<style scoped>\n",
              "    .dataframe tbody tr th:only-of-type {\n",
              "        vertical-align: middle;\n",
              "    }\n",
              "\n",
              "    .dataframe tbody tr th {\n",
              "        vertical-align: top;\n",
              "    }\n",
              "\n",
              "    .dataframe thead th {\n",
              "        text-align: right;\n",
              "    }\n",
              "</style>\n",
              "<table border=\"1\" class=\"dataframe\">\n",
              "  <thead>\n",
              "    <tr style=\"text-align: right;\">\n",
              "      <th></th>\n",
              "      <th>pred</th>\n",
              "      <th>Manufacturer</th>\n",
              "      <th>Model</th>\n",
              "      <th>Sales_in_thousands</th>\n",
              "      <th>Vehicle_type</th>\n",
              "      <th>Price_in_thousands</th>\n",
              "      <th>Engine_size</th>\n",
              "      <th>Horsepower</th>\n",
              "      <th>Wheelbase</th>\n",
              "      <th>Width</th>\n",
              "      <th>Length</th>\n",
              "      <th>Curb_weight</th>\n",
              "      <th>Fuel_capacity</th>\n",
              "      <th>Fuel_efficiency</th>\n",
              "      <th>Latest_Launch</th>\n",
              "      <th>Power_perf_factor</th>\n",
              "    </tr>\n",
              "  </thead>\n",
              "  <tbody>\n",
              "    <tr>\n",
              "      <th>0</th>\n",
              "      <td>17.670862</td>\n",
              "      <td>Acura</td>\n",
              "      <td>Integra</td>\n",
              "      <td>16.919</td>\n",
              "      <td>Passenger</td>\n",
              "      <td>21.500000</td>\n",
              "      <td>1.8</td>\n",
              "      <td>140.0</td>\n",
              "      <td>101.2</td>\n",
              "      <td>67.3</td>\n",
              "      <td>172.4</td>\n",
              "      <td>2.639</td>\n",
              "      <td>13.2</td>\n",
              "      <td>28.0</td>\n",
              "      <td>2/2/2012</td>\n",
              "      <td>58.280150</td>\n",
              "    </tr>\n",
              "    <tr>\n",
              "      <th>1</th>\n",
              "      <td>35.651579</td>\n",
              "      <td>Acura</td>\n",
              "      <td>TL</td>\n",
              "      <td>39.384</td>\n",
              "      <td>Passenger</td>\n",
              "      <td>28.400000</td>\n",
              "      <td>3.2</td>\n",
              "      <td>225.0</td>\n",
              "      <td>108.1</td>\n",
              "      <td>70.3</td>\n",
              "      <td>192.9</td>\n",
              "      <td>3.517</td>\n",
              "      <td>17.2</td>\n",
              "      <td>25.0</td>\n",
              "      <td>6/3/2011</td>\n",
              "      <td>91.370778</td>\n",
              "    </tr>\n",
              "    <tr>\n",
              "      <th>2</th>\n",
              "      <td>35.651579</td>\n",
              "      <td>Acura</td>\n",
              "      <td>CL</td>\n",
              "      <td>14.114</td>\n",
              "      <td>Passenger</td>\n",
              "      <td>27.390755</td>\n",
              "      <td>3.2</td>\n",
              "      <td>225.0</td>\n",
              "      <td>106.9</td>\n",
              "      <td>70.6</td>\n",
              "      <td>192.0</td>\n",
              "      <td>3.470</td>\n",
              "      <td>17.2</td>\n",
              "      <td>26.0</td>\n",
              "      <td>1/4/2012</td>\n",
              "      <td>77.043591</td>\n",
              "    </tr>\n",
              "    <tr>\n",
              "      <th>3</th>\n",
              "      <td>32.478511</td>\n",
              "      <td>Acura</td>\n",
              "      <td>RL</td>\n",
              "      <td>8.588</td>\n",
              "      <td>Passenger</td>\n",
              "      <td>42.000000</td>\n",
              "      <td>3.5</td>\n",
              "      <td>210.0</td>\n",
              "      <td>114.6</td>\n",
              "      <td>71.4</td>\n",
              "      <td>196.6</td>\n",
              "      <td>3.850</td>\n",
              "      <td>18.0</td>\n",
              "      <td>22.0</td>\n",
              "      <td>3/10/2011</td>\n",
              "      <td>91.389779</td>\n",
              "    </tr>\n",
              "    <tr>\n",
              "      <th>4</th>\n",
              "      <td>19.786241</td>\n",
              "      <td>Audi</td>\n",
              "      <td>A4</td>\n",
              "      <td>20.397</td>\n",
              "      <td>Passenger</td>\n",
              "      <td>23.990000</td>\n",
              "      <td>1.8</td>\n",
              "      <td>150.0</td>\n",
              "      <td>102.6</td>\n",
              "      <td>68.2</td>\n",
              "      <td>178.0</td>\n",
              "      <td>2.998</td>\n",
              "      <td>16.4</td>\n",
              "      <td>27.0</td>\n",
              "      <td>10/8/2011</td>\n",
              "      <td>62.777639</td>\n",
              "    </tr>\n",
              "    <tr>\n",
              "      <th>...</th>\n",
              "      <td>...</td>\n",
              "      <td>...</td>\n",
              "      <td>...</td>\n",
              "      <td>...</td>\n",
              "      <td>...</td>\n",
              "      <td>...</td>\n",
              "      <td>...</td>\n",
              "      <td>...</td>\n",
              "      <td>...</td>\n",
              "      <td>...</td>\n",
              "      <td>...</td>\n",
              "      <td>...</td>\n",
              "      <td>...</td>\n",
              "      <td>...</td>\n",
              "      <td>...</td>\n",
              "      <td>...</td>\n",
              "    </tr>\n",
              "    <tr>\n",
              "      <th>152</th>\n",
              "      <td>21.901619</td>\n",
              "      <td>Volvo</td>\n",
              "      <td>V40</td>\n",
              "      <td>3.545</td>\n",
              "      <td>Passenger</td>\n",
              "      <td>24.400000</td>\n",
              "      <td>1.9</td>\n",
              "      <td>160.0</td>\n",
              "      <td>100.5</td>\n",
              "      <td>67.6</td>\n",
              "      <td>176.6</td>\n",
              "      <td>3.042</td>\n",
              "      <td>15.8</td>\n",
              "      <td>25.0</td>\n",
              "      <td>9/21/2011</td>\n",
              "      <td>66.498812</td>\n",
              "    </tr>\n",
              "    <tr>\n",
              "      <th>153</th>\n",
              "      <td>23.593922</td>\n",
              "      <td>Volvo</td>\n",
              "      <td>S70</td>\n",
              "      <td>15.245</td>\n",
              "      <td>Passenger</td>\n",
              "      <td>27.500000</td>\n",
              "      <td>2.4</td>\n",
              "      <td>168.0</td>\n",
              "      <td>104.9</td>\n",
              "      <td>69.3</td>\n",
              "      <td>185.9</td>\n",
              "      <td>3.208</td>\n",
              "      <td>17.9</td>\n",
              "      <td>25.0</td>\n",
              "      <td>11/24/2012</td>\n",
              "      <td>70.654495</td>\n",
              "    </tr>\n",
              "    <tr>\n",
              "      <th>154</th>\n",
              "      <td>23.593922</td>\n",
              "      <td>Volvo</td>\n",
              "      <td>V70</td>\n",
              "      <td>17.531</td>\n",
              "      <td>Passenger</td>\n",
              "      <td>28.800000</td>\n",
              "      <td>2.4</td>\n",
              "      <td>168.0</td>\n",
              "      <td>104.9</td>\n",
              "      <td>69.3</td>\n",
              "      <td>186.2</td>\n",
              "      <td>3.259</td>\n",
              "      <td>17.9</td>\n",
              "      <td>25.0</td>\n",
              "      <td>6/25/2011</td>\n",
              "      <td>71.155978</td>\n",
              "    </tr>\n",
              "    <tr>\n",
              "      <th>155</th>\n",
              "      <td>37.978495</td>\n",
              "      <td>Volvo</td>\n",
              "      <td>C70</td>\n",
              "      <td>3.493</td>\n",
              "      <td>Passenger</td>\n",
              "      <td>45.500000</td>\n",
              "      <td>2.3</td>\n",
              "      <td>236.0</td>\n",
              "      <td>104.9</td>\n",
              "      <td>71.5</td>\n",
              "      <td>185.7</td>\n",
              "      <td>3.601</td>\n",
              "      <td>18.5</td>\n",
              "      <td>23.0</td>\n",
              "      <td>4/26/2011</td>\n",
              "      <td>101.623357</td>\n",
              "    </tr>\n",
              "    <tr>\n",
              "      <th>156</th>\n",
              "      <td>30.574670</td>\n",
              "      <td>Volvo</td>\n",
              "      <td>S80</td>\n",
              "      <td>18.969</td>\n",
              "      <td>Passenger</td>\n",
              "      <td>36.000000</td>\n",
              "      <td>2.9</td>\n",
              "      <td>201.0</td>\n",
              "      <td>109.9</td>\n",
              "      <td>72.1</td>\n",
              "      <td>189.8</td>\n",
              "      <td>3.600</td>\n",
              "      <td>21.1</td>\n",
              "      <td>24.0</td>\n",
              "      <td>11/14/2011</td>\n",
              "      <td>85.735655</td>\n",
              "    </tr>\n",
              "  </tbody>\n",
              "</table>\n",
              "<p>157 rows × 16 columns</p>\n",
              "</div>\n",
              "      <button class=\"colab-df-convert\" onclick=\"convertToInteractive('df-d48576a9-f646-49ab-ad47-7ede5ff141e3')\"\n",
              "              title=\"Convert this dataframe to an interactive table.\"\n",
              "              style=\"display:none;\">\n",
              "        \n",
              "  <svg xmlns=\"http://www.w3.org/2000/svg\" height=\"24px\"viewBox=\"0 0 24 24\"\n",
              "       width=\"24px\">\n",
              "    <path d=\"M0 0h24v24H0V0z\" fill=\"none\"/>\n",
              "    <path d=\"M18.56 5.44l.94 2.06.94-2.06 2.06-.94-2.06-.94-.94-2.06-.94 2.06-2.06.94zm-11 1L8.5 8.5l.94-2.06 2.06-.94-2.06-.94L8.5 2.5l-.94 2.06-2.06.94zm10 10l.94 2.06.94-2.06 2.06-.94-2.06-.94-.94-2.06-.94 2.06-2.06.94z\"/><path d=\"M17.41 7.96l-1.37-1.37c-.4-.4-.92-.59-1.43-.59-.52 0-1.04.2-1.43.59L10.3 9.45l-7.72 7.72c-.78.78-.78 2.05 0 2.83L4 21.41c.39.39.9.59 1.41.59.51 0 1.02-.2 1.41-.59l7.78-7.78 2.81-2.81c.8-.78.8-2.07 0-2.86zM5.41 20L4 18.59l7.72-7.72 1.47 1.35L5.41 20z\"/>\n",
              "  </svg>\n",
              "      </button>\n",
              "      \n",
              "  <style>\n",
              "    .colab-df-container {\n",
              "      display:flex;\n",
              "      flex-wrap:wrap;\n",
              "      gap: 12px;\n",
              "    }\n",
              "\n",
              "    .colab-df-convert {\n",
              "      background-color: #E8F0FE;\n",
              "      border: none;\n",
              "      border-radius: 50%;\n",
              "      cursor: pointer;\n",
              "      display: none;\n",
              "      fill: #1967D2;\n",
              "      height: 32px;\n",
              "      padding: 0 0 0 0;\n",
              "      width: 32px;\n",
              "    }\n",
              "\n",
              "    .colab-df-convert:hover {\n",
              "      background-color: #E2EBFA;\n",
              "      box-shadow: 0px 1px 2px rgba(60, 64, 67, 0.3), 0px 1px 3px 1px rgba(60, 64, 67, 0.15);\n",
              "      fill: #174EA6;\n",
              "    }\n",
              "\n",
              "    [theme=dark] .colab-df-convert {\n",
              "      background-color: #3B4455;\n",
              "      fill: #D2E3FC;\n",
              "    }\n",
              "\n",
              "    [theme=dark] .colab-df-convert:hover {\n",
              "      background-color: #434B5C;\n",
              "      box-shadow: 0px 1px 3px 1px rgba(0, 0, 0, 0.15);\n",
              "      filter: drop-shadow(0px 1px 2px rgba(0, 0, 0, 0.3));\n",
              "      fill: #FFFFFF;\n",
              "    }\n",
              "  </style>\n",
              "\n",
              "      <script>\n",
              "        const buttonEl =\n",
              "          document.querySelector('#df-d48576a9-f646-49ab-ad47-7ede5ff141e3 button.colab-df-convert');\n",
              "        buttonEl.style.display =\n",
              "          google.colab.kernel.accessAllowed ? 'block' : 'none';\n",
              "\n",
              "        async function convertToInteractive(key) {\n",
              "          const element = document.querySelector('#df-d48576a9-f646-49ab-ad47-7ede5ff141e3');\n",
              "          const dataTable =\n",
              "            await google.colab.kernel.invokeFunction('convertToInteractive',\n",
              "                                                     [key], {});\n",
              "          if (!dataTable) return;\n",
              "\n",
              "          const docLinkHtml = 'Like what you see? Visit the ' +\n",
              "            '<a target=\"_blank\" href=https://colab.research.google.com/notebooks/data_table.ipynb>data table notebook</a>'\n",
              "            + ' to learn more about interactive tables.';\n",
              "          element.innerHTML = '';\n",
              "          dataTable['output_type'] = 'display_data';\n",
              "          await google.colab.output.renderOutput(dataTable, element);\n",
              "          const docLink = document.createElement('div');\n",
              "          docLink.innerHTML = docLinkHtml;\n",
              "          element.appendChild(docLink);\n",
              "        }\n",
              "      </script>\n",
              "    </div>\n",
              "  </div>\n",
              "  "
            ]
          },
          "metadata": {},
          "execution_count": 74
        }
      ]
    },
    {
      "cell_type": "code",
      "source": [
        "sns.scatterplot(x='Horsepower', y='Price_in_thousands', data=df)\n",
        "sns.scatterplot(x='Horsepower', y='pred', data=df)\n",
        "sns.lineplot(x='Horsepower', y='pred', data=df, color='red')"
      ],
      "metadata": {
        "colab": {
          "base_uri": "https://localhost:8080/",
          "height": 296
        },
        "id": "bW-9xbptrgcy",
        "outputId": "66a37deb-5139-4553-f42d-e2bb427f049d"
      },
      "execution_count": null,
      "outputs": [
        {
          "output_type": "execute_result",
          "data": {
            "text/plain": [
              "<matplotlib.axes._subplots.AxesSubplot at 0x7f66833df6d0>"
            ]
          },
          "metadata": {},
          "execution_count": 72
        },
        {
          "output_type": "display_data",
          "data": {
            "text/plain": [
              "<Figure size 432x288 with 1 Axes>"
            ],
            "image/png": "[encoded data removed]"
          },
          "metadata": {
            "needs_background": "light"
          }
        }
      ]
    },
    {
      "cell_type": "code",
      "source": [
        "model.score(X=explicativas, y=objetivo)"
      ],
      "metadata": {
        "colab": {
          "base_uri": "https://localhost:8080/"
        },
        "id": "VyHXfG7wsj12",
        "outputId": "0362c9cd-48dd-42dd-f0ce-5fc41ae39546"
      },
      "execution_count": null,
      "outputs": [
        {
          "output_type": "execute_result",
          "data": {
            "text/plain": [
              "0.7029982814058726"
            ]
          },
          "metadata": {},
          "execution_count": 73
        }
      ]
    }
  ]
}